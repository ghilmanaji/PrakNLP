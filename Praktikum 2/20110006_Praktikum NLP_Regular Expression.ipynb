{
 "cells": [
  {
   "cell_type": "markdown",
   "id": "42b25f06",
   "metadata": {},
   "source": [
    "Nama : Ghilman Farhani Putra Aji\n",
    "\n",
    "NIM : 20110006"
   ]
  },
  {
   "cell_type": "markdown",
   "id": "06849345",
   "metadata": {},
   "source": [
    "## re.search()"
   ]
  },
  {
   "cell_type": "code",
   "execution_count": 1,
   "id": "c5abbdcc",
   "metadata": {},
   "outputs": [
    {
     "name": "stdout",
     "output_type": "stream",
     "text": [
      "saya\n"
     ]
    }
   ],
   "source": [
    "import re\n",
    "import pandas as pd\n",
    "from faker import Faker\n",
    "\n",
    "text= \"saya adalah seorang pemula\"\n",
    "x=re.search(\"saya\",text)\n",
    "print(x.group())"
   ]
  },
  {
   "cell_type": "code",
   "execution_count": 2,
   "id": "e603f129",
   "metadata": {},
   "outputs": [
    {
     "name": "stdout",
     "output_type": "stream",
     "text": [
      "pola tidak ditemukan di awal string. >>> None\n",
      "pola tidak ditemukan di awal string. >>> None\n",
      "pola ditemukan di awal string. >>> <re.Match object; span=(0, 4), match='Halo'>\n"
     ]
    }
   ],
   "source": [
    "text=\"Halo, nama saya Edward\"\n",
    "\n",
    "patterns=[\"nama\",\"Edward\",\"Halo\"]\n",
    "for pattern in patterns:\n",
    "    match = re.match(pattern,text)\n",
    "    if match:\n",
    "        print(\"pola ditemukan di awal string. >>>\", match)\n",
    "    else:\n",
    "        print(\"pola tidak ditemukan di awal string. >>>\", match)"
   ]
  },
  {
   "cell_type": "markdown",
   "id": "bd0086ac",
   "metadata": {},
   "source": [
    "## re.findall()"
   ]
  },
  {
   "cell_type": "code",
   "execution_count": 3,
   "id": "4204e7db",
   "metadata": {},
   "outputs": [
    {
     "name": "stdout",
     "output_type": "stream",
     "text": [
      "['081234567890', '0821345678901']\n"
     ]
    }
   ],
   "source": [
    "text=\"Halo, nomer saya 081234567890 dan nomer dia adalah 0821345678901\"\n",
    "pattern = r'\\d{12,13}'\n",
    "matches = re.findall(pattern, text)\n",
    "\n",
    "print(matches)"
   ]
  },
  {
   "cell_type": "markdown",
   "id": "e0c10e19",
   "metadata": {},
   "source": [
    "## re.sub()"
   ]
  },
  {
   "cell_type": "code",
   "execution_count": 4,
   "id": "ad8a7672",
   "metadata": {},
   "outputs": [
    {
     "name": "stdout",
     "output_type": "stream",
     "text": [
      "Halo, nama saya Don. Saya adalah seorang pemula.\n"
     ]
    }
   ],
   "source": [
    "text = \"Halo, nama saya Rey. Saya adalah seorang pemula.\"\n",
    "pattern = \"Rey\"\n",
    "replacement = \"Don\"\n",
    "\n",
    "new_text = re.sub(pattern, replacement, text)\n",
    "\n",
    "print(new_text)\n"
   ]
  },
  {
   "cell_type": "markdown",
   "id": "bb9771bc",
   "metadata": {},
   "source": [
    "## data dummy with faker"
   ]
  },
  {
   "cell_type": "code",
   "execution_count": 5,
   "id": "d132ea1d",
   "metadata": {},
   "outputs": [
    {
     "name": "stdout",
     "output_type": "stream",
     "text": [
      "berhasil membuat data dummy sebanyak 10 data dan disimpan kedalam dummy_data.txt\n"
     ]
    }
   ],
   "source": [
    "fake = Faker()\n",
    "jumlah_data = 10\n",
    "dummy_data = []\n",
    "\n",
    "for _ in range(jumlah_data):\n",
    "    nama = fake.name()\n",
    "    nomor_telepon = fake.phone_number()\n",
    "    alamat = fake.address()\n",
    "    email = fake.email()\n",
    "    \n",
    "    data = f\"Nama: {nama}\\nNomor Telepon: {nomor_telepon}\\nAlamat: {alamat}\\nEmail: {email}\\n\"\n",
    "    dummy_data.append(data)\n",
    "\n",
    "nama_file = \"dummy_data.txt\"\n",
    "with open(nama_file, \"w\") as file:\n",
    "    for data in dummy_data:\n",
    "        file.write(data + \"\\n\")\n",
    "\n",
    "print(\"berhasil membuat data dummy sebanyak\",jumlah_data,\"data dan disimpan kedalam\",nama_file)"
   ]
  },
  {
   "cell_type": "code",
   "execution_count": 6,
   "id": "78aefa53",
   "metadata": {},
   "outputs": [
    {
     "name": "stdout",
     "output_type": "stream",
     "text": [
      "Nama: William Craig\n",
      "Nomor Telepon: 001-891-455-4676\n",
      "Alamat: 7555 Spence Plains\n",
      "North Stephen, FL 16511\n",
      "Email: grosslinda@example.net\n",
      "\n"
     ]
    }
   ],
   "source": [
    "print(data)"
   ]
  },
  {
   "cell_type": "code",
   "execution_count": 7,
   "id": "23a62b44",
   "metadata": {},
   "outputs": [
    {
     "name": "stdout",
     "output_type": "stream",
     "text": [
      "['nathanielmorris@example.net', 'xhughes@example.com', 'benjaminshannon@example.net', 'castromargaret@example.org', 'browndonna@example.com', 'vallen@example.com', 'jamesprince@example.net', 'debbieshaw@example.org', 'michaelnolan@example.com', 'grosslinda@example.net']\n"
     ]
    }
   ],
   "source": [
    "pattern=r\"[a-zA-Z0-9_.+-]+@[a-zA-Z0-9-]+\\.[a-zA-Z.]+\"\n",
    "\n",
    "with open(\"dummy_data.txt\", \"r\") as file:\n",
    "    data = file.readlines()\n",
    "\n",
    "emails = []\n",
    "\n",
    "for line in data:\n",
    "    match = re.search(pattern, line)\n",
    "    if match:\n",
    "        emails.append(match.group())\n",
    "print(emails)"
   ]
  },
  {
   "cell_type": "code",
   "execution_count": 8,
   "id": "c57704ee",
   "metadata": {},
   "outputs": [
    {
     "data": {
      "text/plain": [
       "['3753300821',\n",
       " '2525264224',\n",
       " '9922796870',\n",
       " '6627349278',\n",
       " '7938818996',\n",
       " '4694159221',\n",
       " '5776513023',\n",
       " '13222598375',\n",
       " '13775380356',\n",
       " '0018914554676']"
      ]
     },
     "execution_count": 8,
     "metadata": {},
     "output_type": "execute_result"
    }
   ],
   "source": [
    "with open(\"dummy_data.txt\", \"r\") as file:\n",
    "    text = file.readlines()\n",
    "    text = \"\".join(text)\n",
    "\n",
    "pola_nomor_telepon = r'Nomor Telepon:\\s+([\\d+()-]+)'\n",
    "nomor_telepon = re.findall(pola_nomor_telepon, text)\n",
    "\n",
    "nomor = []\n",
    "for nom in nomor_telepon:\n",
    "    # Substituting multiple spaces with single space\n",
    "    nom = re.sub(r'\\s+', '', nom, flags=re.I)\n",
    "    \n",
    "    # Menghilangkan karakter spesial\n",
    "    nom = re.sub(r'\\W', '', nom)\n",
    "    nomor.append(nom)\n",
    "    \n",
    "# Output data Preprocessing\n",
    "nomor"
   ]
  },
  {
   "cell_type": "code",
   "execution_count": 9,
   "id": "13c59d91",
   "metadata": {},
   "outputs": [
    {
     "data": {
      "text/html": [
       "<div>\n",
       "<style scoped>\n",
       "    .dataframe tbody tr th:only-of-type {\n",
       "        vertical-align: middle;\n",
       "    }\n",
       "\n",
       "    .dataframe tbody tr th {\n",
       "        vertical-align: top;\n",
       "    }\n",
       "\n",
       "    .dataframe thead th {\n",
       "        text-align: right;\n",
       "    }\n",
       "</style>\n",
       "<table border=\"1\" class=\"dataframe\">\n",
       "  <thead>\n",
       "    <tr style=\"text-align: right;\">\n",
       "      <th></th>\n",
       "      <th>email</th>\n",
       "      <th>nomor_telepon</th>\n",
       "    </tr>\n",
       "  </thead>\n",
       "  <tbody>\n",
       "    <tr>\n",
       "      <th>0</th>\n",
       "      <td>nathanielmorris@example.net</td>\n",
       "      <td>3753300821</td>\n",
       "    </tr>\n",
       "    <tr>\n",
       "      <th>1</th>\n",
       "      <td>xhughes@example.com</td>\n",
       "      <td>2525264224</td>\n",
       "    </tr>\n",
       "    <tr>\n",
       "      <th>2</th>\n",
       "      <td>benjaminshannon@example.net</td>\n",
       "      <td>9922796870</td>\n",
       "    </tr>\n",
       "    <tr>\n",
       "      <th>3</th>\n",
       "      <td>castromargaret@example.org</td>\n",
       "      <td>6627349278</td>\n",
       "    </tr>\n",
       "    <tr>\n",
       "      <th>4</th>\n",
       "      <td>browndonna@example.com</td>\n",
       "      <td>7938818996</td>\n",
       "    </tr>\n",
       "    <tr>\n",
       "      <th>5</th>\n",
       "      <td>vallen@example.com</td>\n",
       "      <td>4694159221</td>\n",
       "    </tr>\n",
       "    <tr>\n",
       "      <th>6</th>\n",
       "      <td>jamesprince@example.net</td>\n",
       "      <td>5776513023</td>\n",
       "    </tr>\n",
       "    <tr>\n",
       "      <th>7</th>\n",
       "      <td>debbieshaw@example.org</td>\n",
       "      <td>13222598375</td>\n",
       "    </tr>\n",
       "    <tr>\n",
       "      <th>8</th>\n",
       "      <td>michaelnolan@example.com</td>\n",
       "      <td>13775380356</td>\n",
       "    </tr>\n",
       "    <tr>\n",
       "      <th>9</th>\n",
       "      <td>grosslinda@example.net</td>\n",
       "      <td>0018914554676</td>\n",
       "    </tr>\n",
       "  </tbody>\n",
       "</table>\n",
       "</div>"
      ],
      "text/plain": [
       "                         email  nomor_telepon\n",
       "0  nathanielmorris@example.net     3753300821\n",
       "1          xhughes@example.com     2525264224\n",
       "2  benjaminshannon@example.net     9922796870\n",
       "3   castromargaret@example.org     6627349278\n",
       "4       browndonna@example.com     7938818996\n",
       "5           vallen@example.com     4694159221\n",
       "6      jamesprince@example.net     5776513023\n",
       "7       debbieshaw@example.org    13222598375\n",
       "8     michaelnolan@example.com    13775380356\n",
       "9       grosslinda@example.net  0018914554676"
      ]
     },
     "execution_count": 9,
     "metadata": {},
     "output_type": "execute_result"
    }
   ],
   "source": [
    "pd.DataFrame({\"email\": emails, \"nomor_telepon\": nomor})"
   ]
  },
  {
   "cell_type": "code",
   "execution_count": null,
   "id": "442b4381",
   "metadata": {},
   "outputs": [],
   "source": []
  }
 ],
 "metadata": {
  "kernelspec": {
   "display_name": "Python 3 (ipykernel)",
   "language": "python",
   "name": "python3"
  },
  "language_info": {
   "codemirror_mode": {
    "name": "ipython",
    "version": 3
   },
   "file_extension": ".py",
   "mimetype": "text/x-python",
   "name": "python",
   "nbconvert_exporter": "python",
   "pygments_lexer": "ipython3",
   "version": "3.10.9"
  }
 },
 "nbformat": 4,
 "nbformat_minor": 5
}
